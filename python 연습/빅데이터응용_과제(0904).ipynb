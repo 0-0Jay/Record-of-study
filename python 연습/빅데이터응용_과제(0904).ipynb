{
  "cells": [
    {
      "cell_type": "code",
      "execution_count": null,
      "metadata": {
        "colab": {
          "base_uri": "https://localhost:8080/"
        },
        "id": "VfJ_rAk55C-j",
        "outputId": "a3d0d76d-bd6e-4ca3-b555-9f97cba17b4c"
      },
      "outputs": [
        {
          "name": "stdout",
          "output_type": "stream",
          "text": [
            "0b1010\n"
          ]
        }
      ],
      "source": [
        "# 1\n",
        "def my_bin(n):\n",
        "  tmp = ''\n",
        "  while n:\n",
        "    tmp = str(n % 2) + tmp\n",
        "    n //= 2\n",
        "  return \"0b\" + tmp\n",
        "\n",
        "print(my_bin(10))"
      ]
    },
    {
      "cell_type": "code",
      "execution_count": null,
      "metadata": {
        "colab": {
          "base_uri": "https://localhost:8080/"
        },
        "id": "MAf28_0B8fNu",
        "outputId": "20ac3a5a-1e96-4208-96a4-194afcac4a2b"
      },
      "outputs": [
        {
          "name": "stdout",
          "output_type": "stream",
          "text": [
            "True\n",
            "False\n",
            "True\n"
          ]
        }
      ],
      "source": [
        "# 2\n",
        "def isPal(s):\n",
        "  if len(s) < 2: return True\n",
        "  if s[0] == s[-1]:\n",
        "    return isPal(s[1:-1])\n",
        "  return False\n",
        "\n",
        "print(isPal('tenet'))\n",
        "print(isPal('abab'))\n",
        "print(isPal('noon'))"
      ]
    },
    {
      "cell_type": "code",
      "execution_count": 32,
      "metadata": {
        "colab": {
          "base_uri": "https://localhost:8080/"
        },
        "id": "z2v1eF019qz_",
        "outputId": "b358441c-018b-4661-dbc5-f824c9f4083d"
      },
      "outputs": [
        {
          "name": "stdout",
          "output_type": "stream",
          "text": [
            "년월 입력 : 2023 9\n",
            "  일  월  화  수  목  금  토\n",
            "                       1   2\n",
            "   3   4   5   6   7   8   9\n",
            "  10  11  12  13  14  15  16\n",
            "  17  18  19  20  21  22  23\n",
            "  24  25  26  27  28  29  30\n"
          ]
        }
      ],
      "source": [
        "# 3\n",
        "def isLeap(y):\n",
        "  if y % 4 == 0 and y % 100 != 0 or y % 400 == 0: return True\n",
        "  return False\n",
        "\n",
        "def elapsed_days(y, m, d):\n",
        "  month = [0, 31, 28, 31, 30, 31, 30, 31, 31, 30, 31, 30, 31]\n",
        "  cnt = 0\n",
        "  for i in range(1, y):\n",
        "    if isLeap(i): cnt += 366\n",
        "    else: cnt += 365\n",
        "  for i in range(1, m):\n",
        "    cnt += month[i]\n",
        "    if isLeap(y) and i == 2 : cnt += 1\n",
        "  return cnt + d\n",
        "\n",
        "def whatDay(y, m, d):\n",
        "  return (elapsed_days(y, m, d) - 1) % 7\n",
        "\n",
        "def lastDate(y, m):\n",
        "  month = [0, 31, 28, 31, 30, 31, 30, 31, 31, 30, 31, 30, 31]\n",
        "  if not(isLeap(y)): return month[m]\n",
        "  elif m == 2: return 29\n",
        "\n",
        "year, mon = map(int, input(\"년월 입력 : \").split())\n",
        "print(\"  일  월  화  수  목  금  토\")\n",
        "cnt = whatDay(year, mon, 1) + 1\n",
        "for i in range(cnt):\n",
        "  print(\"    \", end='')\n",
        "for i in range(1,lastDate(year, mon) + 1):\n",
        "  print(\"%4d\" % i, end='')\n",
        "  cnt += 1\n",
        "  if cnt % 7 == 0: print()"
      ]
    },
    {
      "cell_type": "code",
      "execution_count": 50,
      "metadata": {
        "colab": {
          "base_uri": "https://localhost:8080/"
        },
        "id": "LtFpRsqGEHHZ",
        "outputId": "60a0e2a2-c6a4-4c98-e1fd-3aedb04ccf88"
      },
      "outputs": [
        {
          "name": "stdout",
          "output_type": "stream",
          "text": [
            "1 3 5 7 9 20 31 42 53 64 75 86 97 ...\n",
            "합 : 1227365\n"
          ]
        }
      ],
      "source": [
        "# 4\n",
        "arr = [0] * 5000\n",
        "for i in range(1, 5000):\n",
        "  tmp = i\n",
        "  n = i\n",
        "  while tmp:\n",
        "    n += tmp % 10\n",
        "    tmp //= 10\n",
        "  if n < 5000: arr[n] = 1\n",
        "\n",
        "sum = 0\n",
        "for i in range(1, 5000):\n",
        "  if arr[i] == 0:\n",
        "    sum += i\n",
        "    if i < 100: print(\"%d\" % i, end = ' ')\n",
        "print(\"...\\n합 :\", sum)"
      ]
    }
  ],
  "metadata": {
    "colab": {
      "provenance": []
    },
    "kernelspec": {
      "display_name": "Python 3.11.5 64-bit",
      "language": "python",
      "name": "python3"
    },
    "language_info": {
      "name": "python",
      "version": "3.11.5"
    },
    "vscode": {
      "interpreter": {
        "hash": "5ffd7eb2cebf9ac436b5021ba01877e9cee6b03524e01bf8c8637d3e64111215"
      }
    }
  },
  "nbformat": 4,
  "nbformat_minor": 0
}
