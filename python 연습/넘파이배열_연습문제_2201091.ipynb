{
  "nbformat": 4,
  "nbformat_minor": 0,
  "metadata": {
    "colab": {
      "provenance": []
    },
    "kernelspec": {
      "name": "python3",
      "display_name": "Python 3"
    },
    "language_info": {
      "name": "python"
    }
  },
  "cells": [
    {
      "cell_type": "code",
      "execution_count": 8,
      "metadata": {
        "colab": {
          "base_uri": "https://localhost:8080/"
        },
        "id": "lLqjE_A5Gb0C",
        "outputId": "b19dee9e-4161-45b0-87dd-77bdaf970e22"
      },
      "outputs": [
        {
          "output_type": "stream",
          "name": "stdout",
          "text": [
            "[ 1  2  3  4  5  6  7  8  9 10 11 12 13 14 15 16 17 18 19 20]\n",
            "[20 19 18 17 16 15 14 13 12 11 10  9  8  7  6  5  4  3  2  1]\n",
            "num_arr 내의 모든 원소의 합 : 210\n",
            "[[ 1  2  3  4]\n",
            " [ 5  6  7  8]\n",
            " [ 9 10 11 12]\n",
            " [13 14 15 16]\n",
            " [17 18 19 20]]\n"
          ]
        }
      ],
      "source": [
        "# 10.1 번\n",
        "import numpy as np\n",
        "num_arr = np.array(range(1, 21))\n",
        "print(num_arr)\n",
        "print(np.flip(num_arr))\n",
        "print(\"num_arr 내의 모든 원소의 합 : %d\" % (np.sum(num_arr)))\n",
        "print(num_arr.reshape(5, 4))"
      ]
    },
    {
      "cell_type": "code",
      "source": [
        "# 10.2 번\n",
        "# 1)\n",
        "n_arr = np.arange(25).reshape(5, 5)\n",
        "print(n_arr, \"\\n\")\n",
        "# 2)\n",
        "print(\"첫 원소 : %d\" % (n_arr[0, 0]))\n",
        "print(\"마지막 원소 : %d\" % (n_arr[-1,-1]), \"\\n\")\n",
        "# 3)\n",
        "print(n_arr[:2], \"\\n\")\n",
        "# 4)\n",
        "print(n_arr[2:], \"\\n\")\n",
        "# 5)\n",
        "print(n_arr[:,::2], \"\\n\")\n",
        "# 6)\n",
        "print(n_arr[::2, ::2], \"\\n\")\n",
        "#7)\n",
        "print(n_arr[:2].reshape(5, 2))"
      ],
      "metadata": {
        "colab": {
          "base_uri": "https://localhost:8080/"
        },
        "id": "Vnl2cH9qIkBa",
        "outputId": "4b70c057-1371-4ba8-b261-c024e8969a6e"
      },
      "execution_count": 80,
      "outputs": [
        {
          "output_type": "stream",
          "name": "stdout",
          "text": [
            "[[ 0  1  2  3  4]\n",
            " [ 5  6  7  8  9]\n",
            " [10 11 12 13 14]\n",
            " [15 16 17 18 19]\n",
            " [20 21 22 23 24]] \n",
            "\n",
            "첫 원소 : 0\n",
            "마지막 원소 : 24 \n",
            "\n",
            "[[0 1 2 3 4]\n",
            " [5 6 7 8 9]] \n",
            "\n",
            "[[10 11 12 13 14]\n",
            " [15 16 17 18 19]\n",
            " [20 21 22 23 24]] \n",
            "\n",
            "[[ 0  2  4]\n",
            " [ 5  7  9]\n",
            " [10 12 14]\n",
            " [15 17 19]\n",
            " [20 22 24]] \n",
            "\n",
            "[[ 0  2  4]\n",
            " [10 12 14]\n",
            " [20 22 24]] \n",
            "\n",
            "[[0 1]\n",
            " [2 3]\n",
            " [4 5]\n",
            " [6 7]\n",
            " [8 9]]\n"
          ]
        }
      ]
    },
    {
      "cell_type": "code",
      "source": [
        "# 10.3번\n",
        "# 1)\n",
        "a = np.array(np.random.rand(27).reshape(3, 3, 3))\n",
        "print(a, \"\\n\")\n",
        "# 2)\n",
        "print(\"a의 원소들 중 최댓값 :\", a.max(), \"\\n\")\n",
        "# 3)\n",
        "print(\"a의 원소들 중 최댓값의 위치 :\", a.argmax())"
      ],
      "metadata": {
        "colab": {
          "base_uri": "https://localhost:8080/"
        },
        "id": "oCHIu02wJVhp",
        "outputId": "b40329e3-1627-465f-befe-942eccbe4a04"
      },
      "execution_count": 78,
      "outputs": [
        {
          "output_type": "stream",
          "name": "stdout",
          "text": [
            "[[[0.99446296 0.82924464 0.92022768]\n",
            "  [0.44467351 0.97531219 0.9536364 ]\n",
            "  [0.91250687 0.21537116 0.04574824]]\n",
            "\n",
            " [[0.4535393  0.75896792 0.22481872]\n",
            "  [0.05698942 0.51803203 0.83070224]\n",
            "  [0.37569578 0.42447326 0.28033324]]\n",
            "\n",
            " [[0.62539951 0.84011826 0.56883518]\n",
            "  [0.34217709 0.62456537 0.14205743]\n",
            "  [0.78931867 0.6045002  0.60771609]]] \n",
            "\n",
            "a의 원소들 중 최댓값 : 0.9944629583924333 \n",
            "\n",
            "a의 원소들 중 최댓값의 위치 : 0\n"
          ]
        }
      ]
    },
    {
      "cell_type": "code",
      "source": [
        "# 10.4번\n",
        "# 1)\n",
        "a = np.array([0 for i in range(25)])\n",
        "a[::2] = 1\n",
        "a = a.reshape(5, 5)\n",
        "print(a, \"\\n\")\n",
        "# 2)\n",
        "print(\"행렬의 행 방향 성분의 합 :\")\n",
        "print(a.sum(axis=0))"
      ],
      "metadata": {
        "colab": {
          "base_uri": "https://localhost:8080/"
        },
        "id": "r5xnYSsANdnw",
        "outputId": "3a02d331-c86a-4275-a501-caa7742d8197"
      },
      "execution_count": 79,
      "outputs": [
        {
          "output_type": "stream",
          "name": "stdout",
          "text": [
            "[[1 0 1 0 1]\n",
            " [0 1 0 1 0]\n",
            " [1 0 1 0 1]\n",
            " [0 1 0 1 0]\n",
            " [1 0 1 0 1]] \n",
            "\n",
            "행렬의 행 방향 성분의 합 :\n",
            "[3 2 3 2 3]\n"
          ]
        }
      ]
    },
    {
      "cell_type": "code",
      "source": [
        "# 10.5번\n",
        "a = np.arange(0, 32).reshape(4, 4, 2).flatten()\n",
        "print(\"10번째 원소 : %d\\n20번째 원소 : %d\" % (a[9], a[19]))"
      ],
      "metadata": {
        "colab": {
          "base_uri": "https://localhost:8080/"
        },
        "id": "yUG2IFz2Tn0a",
        "outputId": "bbdd5010-3d80-4e58-df90-f62fd2d9631c"
      },
      "execution_count": 76,
      "outputs": [
        {
          "output_type": "stream",
          "name": "stdout",
          "text": [
            "10번째 원소 : 9\n",
            "20번째 원소 : 19\n"
          ]
        }
      ]
    },
    {
      "cell_type": "code",
      "source": [
        "# 10.6번\n",
        "x1 = [i for i in range(100)]\n",
        "x2 = [i + np.random.randint(1, 10) for i in range(100)]\n",
        "x3 = [i + np.random.randint(1, 50) for i in range(100)]\n",
        "x4 = [np.random.randint(1, 100) for i in range(100)]\n",
        "\n",
        "print(np.corrcoef([x1, x2, x3, x4]), '\\n')\n",
        "# 1)\n",
        "print(\"x1과 가장 상관관계가 높은 리스트 : x2\")\n",
        "# 2)\n",
        "print(\"x1과 가장 상관관계가 낮은 리스트 : x4\")"
      ],
      "metadata": {
        "colab": {
          "base_uri": "https://localhost:8080/"
        },
        "id": "jbe5QmWhUrji",
        "outputId": "4615dc31-6793-42b1-8db2-410c70e25c8b"
      },
      "execution_count": 90,
      "outputs": [
        {
          "output_type": "stream",
          "name": "stdout",
          "text": [
            "[[ 1.          0.99667792  0.88705506 -0.1175656 ]\n",
            " [ 0.99667792  1.          0.88557133 -0.10638148]\n",
            " [ 0.88705506  0.88557133  1.         -0.10866422]\n",
            " [-0.1175656  -0.10638148 -0.10866422  1.        ]] \n",
            "\n",
            "x1과 가장 상관관계가 높은 리스트 : x2\n",
            "x1과 가장 상관관계가 낮은 리스트 : x4\n"
          ]
        }
      ]
    }
  ]
}