{
  "nbformat": 4,
  "nbformat_minor": 0,
  "metadata": {
    "colab": {
      "provenance": []
    },
    "kernelspec": {
      "name": "python3",
      "display_name": "Python 3"
    },
    "language_info": {
      "name": "python"
    }
  },
  "cells": [
    {
      "cell_type": "code",
      "execution_count": 15,
      "metadata": {
        "colab": {
          "base_uri": "https://localhost:8080/"
        },
        "id": "I7MABMTfd12k",
        "outputId": "4b54bcd4-eaf2-4c59-ea81-6968ccdba95f"
      },
      "outputs": [
        {
          "output_type": "stream",
          "name": "stdout",
          "text": [
            "이름 : 홍길동\n",
            "학번 : 111\n",
            "학과 : 컴퓨터공학\n",
            "학년 : 1\n",
            "이수 학점 : 17\n",
            "\n",
            "이름 : 조영진\n",
            "학번 : 191\n",
            "학과 : 빅데이터학\n",
            "학년 : 2\n",
            "이수 학점 : 24\n",
            "동아리 : 코딩\n",
            "\n",
            "이름 : 김청수\n",
            "학번 : 231\n",
            "학과 : 수학\n",
            "학년 : 3\n",
            "이수 학점 : 22\n",
            "조교 유형 : 교육\n",
            "장학금 비율 : 0.300\n",
            "\n"
          ]
        }
      ],
      "source": [
        "# 1\n",
        "class Student:\n",
        "  def __init__(self, name, id, d, g, s):\n",
        "    self.name = name\n",
        "    self.id = id\n",
        "    self.department = d\n",
        "    self.grade = g\n",
        "    self.score = s\n",
        "  def upGrade(self):\n",
        "    self.grade += 1\n",
        "  def setScore(self, x):\n",
        "    self.score = x\n",
        "  def getScore(self):\n",
        "    return self.score\n",
        "  def __str__(self):\n",
        "    return \"이름 : %s\\n학번 : %d\\n학과 : %s\\n학년 : %d\\n이수 학점 : %d\\n\" % (self.name, self.id, self.department, self.grade, self.score)\n",
        "\n",
        "class JnderGraduate(Student):\n",
        "  def __init__(self, name, id, d, g, s, cl):\n",
        "    super().__init__(name, id, d, g, s)\n",
        "    self.club = cl\n",
        "  def setClub(self, x):\n",
        "    self.club = x\n",
        "  def getClub(self):\n",
        "    return self.club\n",
        "  def __str__(self):\n",
        "    return \"이름 : %s\\n학번 : %d\\n학과 : %s\\n학년 : %d\\n이수 학점 : %d\\n동아리 : %s\\n\" % (self.name, self.id, self.department, self.grade, self.score, self.club)\n",
        "\n",
        "class Graduate(Student):\n",
        "  def __init__(self, name, id, d, g, s, a, sc):\n",
        "    super().__init__(name, id, d, g, s)\n",
        "    self.assistant = a\n",
        "    self.scolar = sc\n",
        "  def setAssist(self, a):\n",
        "    self.assistant = a\n",
        "  def setScolar(self, sco):\n",
        "    self.scolar = sco\n",
        "  def getAssist(self):\n",
        "    return self.assistant\n",
        "  def getScolor(self):\n",
        "    return self.scolor\n",
        "  def __str__(self):\n",
        "    return \"이름 : %s\\n학번 : %d\\n학과 : %s\\n학년 : %d\\n이수 학점 : %d\\n조교 유형 : %s\\n장학금 비율 : %0.3f\\n\" % (self.name, self.id, self.department, self.grade, self.score, self.assistant, self.scolar)\n",
        "\n",
        "class Test:\n",
        "  def __init__(self, c):\n",
        "    self.clname = c\n",
        "  def print(self):\n",
        "    print(self.clname)\n",
        "\n",
        "s1 = Student(\"홍길동\", 111, \"컴퓨터공학\", 1, 17)\n",
        "s2 = JnderGraduate(\"조영진\", 191, \"빅데이터학\", 2, 24, \"코딩\")\n",
        "s3 = Graduate(\"김청수\", 231, \"수학\", 3, 22, \"교육\", 0.3)\n",
        "\n",
        "t1 = Test(s1)\n",
        "t1.print()\n",
        "t2 = Test(s2)\n",
        "t2.print()\n",
        "t3 = Test(s3)\n",
        "t3.print()"
      ]
    },
    {
      "cell_type": "code",
      "source": [
        "# 2\n",
        "import math\n",
        "\n",
        "class Polygon:\n",
        "  def perimeter():\n",
        "    pass\n",
        "  def area():\n",
        "    pass\n",
        "\n",
        "class Triangle(Polygon):\n",
        "  def __init__(self, a, b, c):\n",
        "    self.a = a\n",
        "    self.b = b\n",
        "    self.c = c\n",
        "  def perimeter(self):\n",
        "    return self.a + self.b + self.c\n",
        "  def area(self):\n",
        "    return math.sqrt((self.perimeter() / 2) * (self.perimeter() / 2 - self.a) * (self.perimeter() / 2 - self.b) * (self.perimeter() / 2 - self.a))\n",
        "\n",
        "class Square(Polygon):\n",
        "  def __init__(self, a):\n",
        "    self.a = a\n",
        "  def perimeter(self):\n",
        "    return 4 * self.a\n",
        "  def area(self):\n",
        "    return self.a ** 2\n",
        "\n",
        "class Rectangle(Polygon):\n",
        "  def __init__(self, a, b):\n",
        "    self.a = a\n",
        "    self.b = b\n",
        "  def perimeter(self):\n",
        "    return 2 * self.a + 2 * self.b\n",
        "  def area(self):\n",
        "    return self.a * self.b\n",
        "\n",
        "\n",
        "lst = []\n",
        "lst.append(Triangle(2, 3, 4))\n",
        "lst.append(Square(2))\n",
        "lst.append(Rectangle(2, 3))\n",
        "\n",
        "for i in lst:\n",
        "  print(\"둘레 : %d\\n넓이 : %0.3f\\n\" % (i.perimeter(), i.area()))"
      ],
      "metadata": {
        "colab": {
          "base_uri": "https://localhost:8080/"
        },
        "id": "0HL4Ei9d1Dar",
        "outputId": "1d44d076-293e-45d5-dd5e-b31a11bfee33"
      },
      "execution_count": 16,
      "outputs": [
        {
          "output_type": "stream",
          "name": "stdout",
          "text": [
            "둘레 : 9\n",
            "넓이 : 6.495\n",
            "\n",
            "둘레 : 8\n",
            "넓이 : 4.000\n",
            "\n",
            "둘레 : 10\n",
            "넓이 : 6.000\n",
            "\n"
          ]
        }
      ]
    }
  ]
}